{
 "cells": [
  {
   "cell_type": "code",
   "execution_count": 1,
   "metadata": {},
   "outputs": [],
   "source": [
    "import os, sys\n",
    "MYPROJECT = '/Users/ryuki/Projects/graduation_research'\n",
    "sys.path.insert(0, MYPROJECT)\n",
    "os.environ.setdefault(\"DJANGO_SETTINGS_MODULE\", \"settings.py\")\n",
    "\n",
    "import django\n",
    "django.setup()"
   ]
  },
  {
   "cell_type": "code",
   "execution_count": 2,
   "metadata": {},
   "outputs": [],
   "source": [
    "from graduation_research.lib.recommend import Recommend\n",
    "from review_based_recommender.models import Spot"
   ]
  },
  {
   "cell_type": "code",
   "execution_count": 3,
   "metadata": {},
   "outputs": [],
   "source": [
    "r = Recommend(method_name='default')"
   ]
  },
  {
   "cell_type": "code",
   "execution_count": 4,
   "metadata": {},
   "outputs": [
    {
     "data": {
      "text/plain": [
       "<Spot: spot=上郷・森の家 (横浜市), count=7/7>"
      ]
     },
     "execution_count": 4,
     "metadata": {},
     "output_type": "execute_result"
    }
   ],
   "source": [
    "Spot.objects.get(id=299)"
   ]
  },
  {
   "cell_type": "code",
   "execution_count": 5,
   "metadata": {},
   "outputs": [
    {
     "data": {
      "text/plain": [
       "<QuerySet [<Spot: spot=ふじの温泉 東尾垂の湯 (相模原市), count=29/29>, <Spot: spot=いやしの湯・緑の休暇村センター (相模原市), count=20/10>, <Spot: spot=湯花楽 厚木店 (厚木市), count=22/22>, <Spot: spot=湯の里 おかだ (箱根町), count=33/33>, <Spot: spot=湯花楽 秦野店 (秦野市), count=20/10>, <Spot: spot=高尾の湯 ふろッぴィ (八王子市), count=21/21>, <Spot: spot=エビアンスパ東京 (千代田区), count=1/1>, <Spot: spot=旭湯 (江戸川区), count=1/1>, <Spot: spot=秋川渓谷 瀬音の湯 (あきる野市), count=55/55>]>"
      ]
     },
     "execution_count": 5,
     "metadata": {},
     "output_type": "execute_result"
    }
   ],
   "source": [
    "r.find(1000)"
   ]
  },
  {
   "cell_type": "code",
   "execution_count": 6,
   "metadata": {},
   "outputs": [
    {
     "data": {
      "text/plain": [
       "(<Spot: spot=江の島 (藤沢市), count=527/527>,\n",
       " <QuerySet [<Spot: spot=横浜・八景島シーパラダイス (横浜市), count=695/695>, <Spot: spot=しながわ水族館 (品川区), count=280/270>, <Spot: spot=箱根園水族館 (箱根町), count=125/125>, <Spot: spot=京急油壺マリンパーク (三浦市), count=207/207>, <Spot: spot=マクセル アクアパーク品川 (港区), count=514/514>, <Spot: spot=サンシャイン水族館 (豊島区), count=363/363>, <Spot: spot=すみだ水族館 (墨田区), count=469/469>, <Spot: spot=葛西臨海水族園 (江戸川区), count=380/370>, <Spot: spot=東京タワー水族館 (港区), count=17/17>]>)"
      ]
     },
     "execution_count": 6,
     "metadata": {},
     "output_type": "execute_result"
    }
   ],
   "source": [
    "r.show_base_and_recommend(1050)"
   ]
  },
  {
   "cell_type": "code",
   "execution_count": 7,
   "metadata": {},
   "outputs": [],
   "source": [
    "ra = Recommend(method_name='adjectives_only')"
   ]
  },
  {
   "cell_type": "code",
   "execution_count": 8,
   "metadata": {},
   "outputs": [
    {
     "data": {
      "text/plain": [
       "(<Spot: spot=らくスパ (横浜市), count=34/34>,\n",
       " <QuerySet [<Spot: spot=洪福寺松原商店街 (横浜市), count=29/29>, <Spot: spot=Mecca (横浜市), count=1/1>, <Spot: spot=道の駅八王子滝山 (八王子市), count=46/46>, <Spot: spot=大東京綜合卸売センター (府中市), count=18/11>, <Spot: spot=ひもの山安 小田原駅前店 (小田原市), count=27/27>, <Spot: spot=真鶴町漁協直販所, count=3/3>, <Spot: spot=何やってるBAR (港区), count=1/1>, <Spot: spot=高田馬場 (新宿区), count=163/163>, <Spot: spot=砂町銀座商店街 (江東区), count=78/78>]>)"
      ]
     },
     "execution_count": 8,
     "metadata": {},
     "output_type": "execute_result"
    }
   ],
   "source": [
    "ra.show_base_and_recommend(100)"
   ]
  },
  {
   "cell_type": "code",
   "execution_count": 10,
   "metadata": {},
   "outputs": [
    {
     "name": "stdout",
     "output_type": "stream",
     "text": [
      "18: 0.5640869140625\n",
      "9: 0.11517846584320068\n",
      "19: 0.07986844331026077\n",
      "30: 0.04485347494482994\n",
      "25: 0.04079356789588928\n",
      "39: 0.03950999304652214\n",
      "15: 0.031792450696229935\n",
      "10: 0.030081406235694885\n",
      "24: 0.028986800462007523\n",
      "Topic #  18\n",
      "安い: 0.3329123258590698\n",
      "安く: 0.26590052247047424\n",
      "少ない: 0.03382813185453415\n",
      "早く: 0.03190457448363304\n",
      "早い: 0.025745362043380737\n",
      "高い: 0.02288854494690895\n",
      "なし: 0.0204441100358963\n",
      "嬉しい: 0.016854552552103996\n",
      "やすい: 0.014893298968672752\n",
      "欲しい: 0.014617674052715302\n",
      "\n",
      "\n",
      "Topic #  9\n",
      "少なく: 0.12891937792301178\n",
      "早い: 0.10851568728685379\n",
      "早く: 0.07344662398099899\n",
      "寂しい: 0.06819023936986923\n",
      "早かっ: 0.05841389298439026\n",
      "少ない: 0.054076243191957474\n",
      "少なかっ: 0.033643994480371475\n",
      "遅かっ: 0.028028883039951324\n",
      "遅い: 0.02540404163300991\n",
      "遅: 0.01953858695924282\n",
      "\n",
      "\n",
      "Topic #  19\n",
      "狭い: 0.5269437432289124\n",
      "細い: 0.15798862278461456\n",
      "狭く: 0.13903136551380157\n",
      "細長い: 0.054333001375198364\n",
      "狭: 0.0317966565489769\n",
      "細長く: 0.017072346061468124\n",
      "少なく: 0.008619827218353748\n",
      "長く: 0.008595358580350876\n",
      "やすい: 0.00822211243212223\n",
      "感慨深い: 0.0073194666765630245\n",
      "\n",
      "\n",
      "Topic #  30\n",
      "大きく: 0.494127094745636\n",
      "無く: 0.11759693920612335\n",
      "大きい: 0.0658240094780922\n",
      "少なく: 0.048073507845401764\n",
      "近: 0.04266738519072533\n",
      "少ない: 0.036024317145347595\n",
      "よかっ: 0.018324488773941994\n",
      "薄い: 0.017514776438474655\n",
      "だそう: 0.014045527204871178\n",
      "乏しい: 0.013739627785980701\n",
      "\n",
      "\n",
      "Topic #  25\n",
      "狭い: 0.15598617494106293\n",
      "所狭し: 0.06542810797691345\n",
      "おもしろい: 0.05542958900332451\n",
      "面白い: 0.04945223033428192\n",
      "狭く: 0.037417083978652954\n",
      "多かっ: 0.03234856203198433\n",
      "小さい: 0.027345646172761917\n",
      "小さく: 0.02272164076566696\n",
      "なかっ: 0.021409841254353523\n",
      "すごい: 0.015242891386151314\n",
      "\n",
      "\n",
      "Topic #  39\n",
      "美味しい: 0.22698909044265747\n",
      "おいしい: 0.0968303233385086\n",
      "美味しかっ: 0.0623234361410141\n",
      "美味しく: 0.04254869371652603\n",
      "おいしかっ: 0.033302612602710724\n",
      "美味し: 0.023635851219296455\n",
      "安く: 0.020384423434734344\n",
      "おいしく: 0.016505442559719086\n",
      "高い: 0.016223715618252754\n",
      "面白い: 0.015580096282064915\n",
      "\n",
      "\n",
      "Topic #  15\n",
      "新しく: 0.6972762942314148\n",
      "有り難い: 0.036851681768894196\n",
      "新しい: 0.023204078897833824\n",
      "物凄く: 0.02164393849670887\n",
      "嬉しい: 0.01481548696756363\n",
      "ほど近く: 0.013871553353965282\n",
      "優し: 0.010406745597720146\n",
      "寂しかっ: 0.010066951625049114\n",
      "根強い: 0.009117325767874718\n",
      "ほしい: 0.00845346413552761\n",
      "\n",
      "\n",
      "Topic #  10\n",
      "小高い: 0.622441828250885\n",
      "厳しい: 0.09570329636335373\n",
      "ほど近く: 0.049154266715049744\n",
      "よろしい: 0.04283555597066879\n",
      "近かっ: 0.023264260962605476\n",
      "程近く: 0.014935050159692764\n",
      "長ーい: 0.012757519260048866\n",
      "臭: 0.012034926563501358\n",
      "すご: 0.010724049061536789\n",
      "強く: 0.010371045209467411\n",
      "\n",
      "\n",
      "Topic #  24\n",
      "深い: 0.2642442286014557\n",
      "小さく: 0.19680751860141754\n",
      "深く: 0.1275293380022049\n",
      "珍しく: 0.1268516480922699\n",
      "低い: 0.12324332445859909\n",
      "無し: 0.03315712511539459\n",
      "冷たく: 0.032113369554281235\n",
      "おかしく: 0.01959986984729767\n",
      "厚く: 0.015032555907964706\n",
      "古かっ: 0.01313246414065361\n",
      "\n",
      "\n"
     ]
    }
   ],
   "source": [
    "ra.show_topics(1100)"
   ]
  },
  {
   "cell_type": "code",
   "execution_count": 11,
   "metadata": {},
   "outputs": [],
   "source": [
    "rna = Recommend(method_name='nouns_and_adjectives')"
   ]
  },
  {
   "cell_type": "code",
   "execution_count": 12,
   "metadata": {},
   "outputs": [
    {
     "data": {
      "text/plain": [
       "(<Spot: spot=らくスパ (横浜市), count=34/34>,\n",
       " <QuerySet [<Spot: spot=パナソニックセンター東京 (江東区), count=82/82>, <Spot: spot=九頭龍神社 (箱根町), count=85/85>, <Spot: spot=湯花楽 秦野店 (秦野市), count=20/10>, <Spot: spot=新宿ＷＥバス (新宿区), count=5/5>, <Spot: spot=上野こども遊園地 (台東区), count=12/12>, <Spot: spot=やすらぎの湯 ニュー椿 (豊島区), count=2/2>, <Spot: spot=ニンジャ＆サムライ道場 (台東区), count=7/7>, <Spot: spot=日本万華鏡博物館 (川口市), count=5/5>, <Spot: spot=かたくりの湯 (武蔵村山市), count=15/15>]>)"
      ]
     },
     "execution_count": 12,
     "metadata": {},
     "output_type": "execute_result"
    }
   ],
   "source": [
    "rna.show_base_and_recommend(100)"
   ]
  },
  {
   "cell_type": "code",
   "execution_count": null,
   "metadata": {},
   "outputs": [],
   "source": []
  }
 ],
 "metadata": {
  "kernelspec": {
   "display_name": "Django Shell-Plus",
   "language": "python",
   "name": "django_extensions"
  },
  "language_info": {
   "codemirror_mode": {
    "name": "ipython",
    "version": 3
   },
   "file_extension": ".py",
   "mimetype": "text/x-python",
   "name": "python",
   "nbconvert_exporter": "python",
   "pygments_lexer": "ipython3",
   "version": "3.6.5"
  }
 },
 "nbformat": 4,
 "nbformat_minor": 2
}
